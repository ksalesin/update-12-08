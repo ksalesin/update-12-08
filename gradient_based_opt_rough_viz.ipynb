{
 "cells": [
  {
   "cell_type": "code",
   "execution_count": 1,
   "id": "9ed0385a",
   "metadata": {},
   "outputs": [
    {
     "name": "stdout",
     "output_type": "stream",
     "text": [
      "/Users/kate/mitsuba3-scripts\n"
     ]
    }
   ],
   "source": [
    "import time\n",
    "import numpy as np\n",
    "\n",
    "import plotly.graph_objects as go\n",
    "from plotly.subplots import make_subplots\n",
    "import plotly.express as px\n",
    "from ipywidgets import widgets, interact"
   ]
  },
  {
   "cell_type": "code",
   "execution_count": 2,
   "id": "4d2cbf9a",
   "metadata": {},
   "outputs": [],
   "source": [
    "losses = np.load('opt_tests/losses_rough.npy')\n",
    "param_errors = np.load('opt_tests/param_errors_rough.npy')\n",
    "param_values = np.load('opt_tests/param_opt_rough.npy')\n",
    "sensor_values = np.load('opt_tests/sensor_opt_rough.npy')\n",
    "sensor_ref = np.load('opt_tests/sensor_ref_rough.npy')\n",
    "\n",
    "iteration_count = np.shape(losses)[-1]"
   ]
  },
  {
   "cell_type": "code",
   "execution_count": 3,
   "id": "f124d399",
   "metadata": {},
   "outputs": [],
   "source": [
    "# Initial values\n",
    "roughness_inits = np.array([0.01, 0.1, 0.25, 0.5])\n",
    "\n",
    "# Learning rates\n",
    "learning_rates = np.array([0.005, 0.05, 0.1, 0.5])\n",
    "\n",
    "param_ref = 0.2"
   ]
  },
  {
   "cell_type": "code",
   "execution_count": 8,
   "id": "1b513872",
   "metadata": {},
   "outputs": [
    {
     "data": {
      "application/vnd.jupyter.widget-view+json": {
       "model_id": "e740d361b8e44c458099035ee73df416",
       "version_major": 2,
       "version_minor": 0
      },
      "text/plain": [
       "VBox(children=(ToggleButtons(description='init: ', options=(0.01, 0.1, 0.25, 0.5), value=0.01), ToggleButtons(…"
      ]
     },
     "metadata": {},
     "output_type": "display_data"
    },
    {
     "data": {
      "application/vnd.jupyter.widget-view+json": {
       "model_id": "a799f4f722054674a1722a29b9ba8c64",
       "version_major": 2,
       "version_minor": 0
      },
      "text/plain": [
       "FigureWidget({\n",
       "    'data': [{'legendgroup': 'Loss',\n",
       "              'line': {'color': 'blue', 'dash': 'solid'},\n",
       "…"
      ]
     },
     "metadata": {},
     "output_type": "display_data"
    }
   ],
   "source": [
    "init_select = widgets.ToggleButtons(options = roughness_inits, description = 'init: ', disabled = False)\n",
    "lr_select = widgets.ToggleButtons(options = learning_rates, description = 'lr: ', disabled = False)\n",
    "\n",
    "ui = widgets.VBox(children = [init_select, lr_select])\n",
    "\n",
    "fig = make_subplots(rows = 3, cols = 1, vertical_spacing = 0.1,\n",
    "                    subplot_titles=(\"Objective function\", \"Parameter error\", \"Parameter value\"))\n",
    "\n",
    "x_iter = np.array(range(iteration_count))\n",
    "\n",
    "def scatter_plot(data, name, line_style, line_color, showlegend):\n",
    "    plot = go.Scatter(\n",
    "                x = x_iter,\n",
    "                y = data,\n",
    "                mode = 'lines',\n",
    "                name = name,\n",
    "                legendgroup = name,\n",
    "                line = dict(\n",
    "                            color = line_color,\n",
    "                            dash = line_style\n",
    "                       ),\n",
    "                showlegend = showlegend\n",
    "            )\n",
    "    \n",
    "    return plot\n",
    "\n",
    "loss_plot = scatter_plot(losses[0,0,:], 'Loss', 'solid', 'blue', False)\n",
    "param_error_plot = scatter_plot(param_errors[0,0,:], 'Parameter error', 'solid', 'red', False)\n",
    "param_plot = scatter_plot(param_values[0,0,:], 'Opt parameter', 'solid', 'red', True)\n",
    "\n",
    "fig.add_trace(loss_plot, row = 1, col = 1)\n",
    "fig.add_trace(param_error_plot, row = 2, col = 1)\n",
    "fig.add_trace(param_plot, row = 3, col = 1)\n",
    "\n",
    "# Parameter reference value\n",
    "params_ref_y = np.full(np.shape(x_iter), param_ref)\n",
    "param_ref_plot = scatter_plot(params_ref_y, 'Reference parameter', 'solid', 'black', True)\n",
    "fig.add_trace(param_ref_plot, row = 3, col = 1)\n",
    "\n",
    "fig.update_layout(\n",
    "    height = 600,\n",
    "    title = 'Optimization stats',\n",
    "    yaxis_title = 'MSE (loss)',\n",
    "    yaxis_title_standoff = 0,\n",
    "    yaxis2_title = 'MSE (param)',\n",
    "    yaxis2_title_standoff = 0,\n",
    "    xaxis_title_standoff = 0,\n",
    "    xaxis2_title_standoff = 0,\n",
    "    xaxis3_title = 'Iteration'\n",
    ")\n",
    "\n",
    "fig_widget = go.FigureWidget(fig)\n",
    "\n",
    "def update(init_select, lr_select):\n",
    "    i = np.where(init_select == roughness_inits)[0][0]\n",
    "    lr = np.where(lr_select == learning_rates)[0][0]\n",
    "    \n",
    "    with fig_widget.batch_update():\n",
    "        fig_widget.data[0].y = losses[i,lr,:]\n",
    "        fig_widget.data[1].y = param_errors[i,lr,:]\n",
    "        fig_widget.data[2].y = param_values[i,lr,:]\n",
    "\n",
    "out = widgets.interactive_output(update, {'init_select': init_select,\n",
    "                                          'lr_select': lr_select})\n",
    "\n",
    "display(ui)\n",
    "fig_widget"
   ]
  },
  {
   "cell_type": "code",
   "execution_count": 7,
   "id": "3690d9d9",
   "metadata": {},
   "outputs": [
    {
     "data": {
      "application/vnd.jupyter.widget-view+json": {
       "model_id": "8450623540b2472baa803a0b9740ecaf",
       "version_major": 2,
       "version_minor": 0
      },
      "text/plain": [
       "VBox(children=(ToggleButtons(description='init: ', options=(0.01, 0.1, 0.25, 0.5), value=0.01), ToggleButtons(…"
      ]
     },
     "metadata": {},
     "output_type": "display_data"
    },
    {
     "data": {
      "application/vnd.jupyter.widget-view+json": {
       "model_id": "62be198f861a422a9650063ee3fccd10",
       "version_major": 2,
       "version_minor": 0
      },
      "text/plain": [
       "FigureWidget({\n",
       "    'data': [{'colorbar': {'len': 0.3, 'y': 0.87},\n",
       "              'colorscale': [[0.0, 'rgb(0, 0…"
      ]
     },
     "metadata": {},
     "output_type": "display_data"
    }
   ],
   "source": [
    "import plotly.express as px\n",
    "\n",
    "init_select = widgets.ToggleButtons(options = roughness_inits, description = 'init: ', disabled = False)\n",
    "lr_select = widgets.ToggleButtons(options = learning_rates, description = 'lr: ', disabled = False)\n",
    "it_slider = widgets.IntSlider(value = 0, min = 0, max = iteration_count-1, description = 'iteration: ', \n",
    "                              continuous_update = True, disabled = False,\n",
    "                              layout = widgets.Layout(width = '98%'))\n",
    "\n",
    "ui = widgets.VBox(children = [init_select, lr_select, it_slider])\n",
    "\n",
    "theta_sensors = np.linspace(0.0, 60.0, 13)\n",
    "phi_sensors   = np.array([0.0, 60.0, 180.0, 240.0])\n",
    "\n",
    "n_theta = len(theta_sensors)\n",
    "n_phi = len(phi_sensors)\n",
    "\n",
    "x = np.shape(sensor_values)[0]\n",
    "y = np.shape(sensor_values)[1]\n",
    "\n",
    "sensor_values_im = np.reshape(sensor_values, (x, y, iteration_count, n_theta, n_phi, 4))\n",
    "sensor_ref_im = np.reshape(sensor_ref, (n_theta, n_phi, 4))\n",
    "sensor_err_im = sensor_values_im - sensor_ref_im\n",
    "\n",
    "fig1 = go.Heatmap(z = np.transpose(sensor_values_im[0, 0, 0, :, :, 0]),\n",
    "                  colorscale = 'gray',\n",
    "                  colorbar = dict(len = 0.3, y = 0.87),\n",
    "                  x = [f\"{t:.0f}\" for t in theta_sensors],\n",
    "                  y = [f\"{p:.0f}\" for p in phi_sensors])\n",
    "\n",
    "fig2 = go.Heatmap(z = np.transpose(sensor_ref_im[:, :, 0]),\n",
    "                  colorscale = 'gray',\n",
    "                  colorbar = dict(len = 0.3, y = 0.5),\n",
    "                  x = [f\"{t:.0f}\" for t in theta_sensors],\n",
    "                  y = [f\"{p:.0f}\" for p in phi_sensors])\n",
    "\n",
    "fig3 = go.Heatmap(z = np.transpose(sensor_err_im[0, 0, 0, :, :, 0]),\n",
    "                  colorscale='RdBu',\n",
    "                  zmid = 0,\n",
    "                  colorbar = dict(len = 0.3, y = 0.14),\n",
    "                  x = [f\"{t:.0f}\" for t in theta_sensors],\n",
    "                  y = [f\"{p:.0f}\" for p in phi_sensors])\n",
    "\n",
    "\n",
    "fig = make_subplots(rows = 3, cols = 1,\n",
    "                    vertical_spacing = 0.15,\n",
    "                    subplot_titles = ('Sensor values (optimization)',\n",
    "                                      'Sensor values (reference)',\n",
    "                                      'Error (absolute)'))\n",
    "fig.add_trace(fig1, row = 1, col = 1)\n",
    "fig.add_trace(fig2, row = 2, col = 1)\n",
    "fig.add_trace(fig3, row = 3, col = 1)\n",
    "\n",
    "fig.update_layout(\n",
    "    height = 750\n",
    ")\n",
    "\n",
    "for row in range(1,4):\n",
    "    fig.update_xaxes(title = 'sensor theta', row = row, col = 1, title_standoff = 0)\n",
    "    fig.update_yaxes(title = 'sensor phi', row = row, col = 1, title_standoff = 0)\n",
    "\n",
    "fig_widget = go.FigureWidget(fig)\n",
    "\n",
    "def update(init_select, lr_select, it_slider):\n",
    "    i = np.where(init_select == roughness_inits)[0][0]\n",
    "    lr = np.where(lr_select == learning_rates)[0][0]\n",
    "    \n",
    "    with fig_widget.batch_update():\n",
    "        fig_widget.data[0].z = np.transpose(sensor_values_im[i, lr, it_slider, :, :, 0])\n",
    "        fig_widget.data[2].z = np.transpose(sensor_err_im[i, lr, it_slider, :, :, 0])\n",
    "\n",
    "out = widgets.interactive_output(update, {'init_select': init_select,\n",
    "                                          'lr_select': lr_select,\n",
    "                                          'it_slider': it_slider})\n",
    "\n",
    "display(ui)\n",
    "fig_widget"
   ]
  },
  {
   "cell_type": "code",
   "execution_count": null,
   "id": "c410ec12",
   "metadata": {},
   "outputs": [],
   "source": []
  }
 ],
 "metadata": {
  "kernelspec": {
   "display_name": "Python 3 (ipykernel)",
   "language": "python",
   "name": "python3"
  },
  "language_info": {
   "codemirror_mode": {
    "name": "ipython",
    "version": 3
   },
   "file_extension": ".py",
   "mimetype": "text/x-python",
   "name": "python",
   "nbconvert_exporter": "python",
   "pygments_lexer": "ipython3",
   "version": "3.10.6"
  }
 },
 "nbformat": 4,
 "nbformat_minor": 5
}
